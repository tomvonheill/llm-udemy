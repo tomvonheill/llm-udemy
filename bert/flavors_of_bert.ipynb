{
 "cells": [
  {
   "cell_type": "code",
   "execution_count": 2,
   "metadata": {},
   "outputs": [
    {
     "name": "stderr",
     "output_type": "stream",
     "text": [
      "Some weights of the model checkpoint at bert-base-cased were not used when initializing BertForMaskedLM: ['cls.seq_relationship.weight', 'bert.pooler.dense.bias', 'bert.pooler.dense.weight', 'cls.seq_relationship.bias']\n",
      "- This IS expected if you are initializing BertForMaskedLM from the checkpoint of a model trained on another task or with another architecture (e.g. initializing a BertForSequenceClassification model from a BertForPreTraining model).\n",
      "- This IS NOT expected if you are initializing BertForMaskedLM from the checkpoint of a model that you expect to be exactly identical (initializing a BertForSequenceClassification model from a BertForSequenceClassification model).\n"
     ]
    },
    {
     "name": "stdout",
     "output_type": "stream",
     "text": [
      "Token:look. Score:47.00%\n",
      "Token:stop. Score:43.15%\n",
      "Token:glance. Score:0.83%\n",
      "Token:wait. Score:0.76%\n",
      "Token:turn. Score:0.65%\n"
     ]
    }
   ],
   "source": [
    "from transformers import pipeline\n",
    "nlp = pipeline(\"fill-mask\", model='bert-base-cased')\n",
    "# use the reserved in mask_token to mask a word\n",
    "\n",
    "preds = nlp(f\"If you don't {nlp.tokenizer.mask_token} at the sign, you will get a ticket\")\n",
    "\n",
    "def print_preds(preds):\n",
    "    for pred in preds:\n",
    "        print(f\"Token:{pred['token_str']}. Score:{100*pred['score']:.2f}%\")\n",
    "\n",
    "print_preds(preds)"
   ]
  },
  {
   "cell_type": "code",
   "execution_count": 3,
   "metadata": {},
   "outputs": [
    {
     "name": "stderr",
     "output_type": "stream",
     "text": [
      "huggingface/tokenizers: The current process just got forked, after parallelism has already been used. Disabling parallelism to avoid deadlocks...\n",
      "To disable this warning, you can either:\n",
      "\t- Avoid using `tokenizers` before the fork if possible\n",
      "\t- Explicitly set the environment variable TOKENIZERS_PARALLELISM=(true | false)\n",
      "config.json: 100%|██████████| 481/481 [00:00<00:00, 1.60MB/s]\n",
      "model.safetensors: 100%|██████████| 499M/499M [00:08<00:00, 57.0MB/s] \n",
      "vocab.json: 100%|██████████| 899k/899k [00:00<00:00, 14.0MB/s]\n",
      "merges.txt: 100%|██████████| 456k/456k [00:00<00:00, 6.36MB/s]\n",
      "tokenizer.json: 100%|██████████| 1.36M/1.36M [00:00<00:00, 29.2MB/s]\n"
     ]
    },
    {
     "name": "stdout",
     "output_type": "stream",
     "text": [
      "Token: look. Score:43.86%\n",
      "Token: stop. Score:41.07%\n",
      "Token: stay. Score:3.31%\n",
      "Token: stand. Score:2.39%\n",
      "Token: wave. Score:0.89%\n"
     ]
    }
   ],
   "source": [
    "\"\"\"Now trying the same task with roberta base\"\"\"\n",
    "nlp = pipeline(\"fill-mask\", model='roberta-base')\n",
    "preds = nlp(f\"If you don't {nlp.tokenizer.mask_token} at the sign, you will get a ticket\")\n",
    "print_preds(preds)"
   ]
  },
  {
   "cell_type": "code",
   "execution_count": 4,
   "metadata": {},
   "outputs": [
    {
     "name": "stderr",
     "output_type": "stream",
     "text": [
      "config.json: 100%|██████████| 480/480 [00:00<00:00, 1.75MB/s]\n",
      "model.safetensors: 100%|██████████| 331M/331M [00:05<00:00, 56.3MB/s] \n",
      "Some weights of the model checkpoint at distilroberta-base were not used when initializing RobertaForMaskedLM: ['roberta.pooler.dense.bias', 'roberta.pooler.dense.weight']\n",
      "- This IS expected if you are initializing RobertaForMaskedLM from the checkpoint of a model trained on another task or with another architecture (e.g. initializing a BertForSequenceClassification model from a BertForPreTraining model).\n",
      "- This IS NOT expected if you are initializing RobertaForMaskedLM from the checkpoint of a model that you expect to be exactly identical (initializing a BertForSequenceClassification model from a BertForSequenceClassification model).\n",
      "vocab.json: 100%|██████████| 899k/899k [00:00<00:00, 11.3MB/s]\n",
      "merges.txt: 100%|██████████| 456k/456k [00:00<00:00, 20.3MB/s]\n",
      "tokenizer.json: 100%|██████████| 1.36M/1.36M [00:00<00:00, 29.6MB/s]\n"
     ]
    },
    {
     "name": "stdout",
     "output_type": "stream",
     "text": [
      "Token: stop. Score:42.59%\n",
      "Token: look. Score:7.97%\n",
      "Token: stare. Score:4.41%\n",
      "Token: arrive. Score:3.95%\n",
      "Token: sign. Score:3.59%\n"
     ]
    }
   ],
   "source": [
    "nlp = pipeline(\"fill-mask\", model='distilroberta-base')\n",
    "preds = nlp(f\"If you don't {nlp.tokenizer.mask_token} at the sign, you will get a ticket\")\n",
    "print_preds(preds)"
   ]
  },
  {
   "cell_type": "code",
   "execution_count": null,
   "metadata": {},
   "outputs": [],
   "source": [
    "nlp = pipeline(\"fill-mask\", model='distilbert-base-cased')\n",
    "preds = nlp(f\"If you don't {nlp.tokenizer.mask_token} at the sign, you will get a ticket\")\n",
    "print_preds(preds)"
   ]
  }
 ],
 "metadata": {
  "kernelspec": {
   "display_name": ".venv",
   "language": "python",
   "name": "python3"
  },
  "language_info": {
   "codemirror_mode": {
    "name": "ipython",
    "version": 3
   },
   "file_extension": ".py",
   "mimetype": "text/x-python",
   "name": "python",
   "nbconvert_exporter": "python",
   "pygments_lexer": "ipython3",
   "version": "3.10.9"
  }
 },
 "nbformat": 4,
 "nbformat_minor": 2
}
