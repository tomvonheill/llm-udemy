{
 "cells": [
  {
   "cell_type": "code",
   "execution_count": 1,
   "metadata": {},
   "outputs": [
    {
     "name": "stderr",
     "output_type": "stream",
     "text": [
      "/Users/thomasheill/test_repos/llm udemy/.venv/lib/python3.10/site-packages/tqdm/auto.py:21: TqdmWarning: IProgress not found. Please update jupyter and ipywidgets. See https://ipywidgets.readthedocs.io/en/stable/user_install.html\n",
      "  from .autonotebook import tqdm as notebook_tqdm\n"
     ]
    },
    {
     "name": "stdout",
     "output_type": "stream",
     "text": [
      "<!DOCTYPE html PUBLIC \"-//W3C//DTD XHTML 1.0 Transitional//EN\" \"http://www.w3.org/TR/xhtml1/DTD/xhtml1-transitional.dtd\">\n",
      "<html xmlns=\"http://www.w3.org/1999/xhtml\">\n",
      "<head>\n",
      "<meta http-equiv=\"Content-Type\" content=\"text/html; charset=UTF-8\" />\n",
      "<title>SEC.gov | Request Rate Threshold Exceeded</title>\n",
      "<style>\n",
      "html {height: 100%}\n",
      "body {height: 100%; margin:0; padding:0;}\n",
      "#header {background-color:#003968; color:#fff; padding:15px 20px 10px 20px;font-family:Arial, Helvetica, sans-serif; font-size:20px; border-bottom:solid 5px #000;}\n",
      "#footer {background-color:#003968; color:#fff; padding:15px 20px;font-family:Arial, Helvetica, sans-serif; font-size:20px;}\n",
      "#content {max-width:650px;margin:60px auto; padding:0 20px 100px 20px; background-image:url(seal_bw.png);background-repeat:no-repeat;background-position:50% 100%;}\n",
      "h1 {font-family:Georgia, Times, serif; font-size:20px;}\n",
      "h2 {text-align:center; font-family:Georgia, Times, serif; font-size:20px; width:100%; border-bottom:solid #999 1px;padding-bottom:10px; margin-bottom:20px;}\n",
      "h3 {font-family:Georgia, Times, serif; font-size:16px; margin:25px 0 0 0;}\n",
      "p {font-family:Verdana, Geneva, sans-serif;font-size:14px;line-height:1.3;}\n",
      ".grey_box {background-color:#eee; padding:5px 40px 20px 40px;margin-top:75px;}\n",
      ".grey_box p {font-size:12px;line-height:1.5}\n",
      ".note {padding: 0 40px; font-style: italic;}\n",
      "</style>\n",
      "</head>\n",
      "\n",
      "<body>\n",
      "<div id=\"header\">U.S. Securities and Exchange Commission</div>\n",
      "<div id=\"content\">\n",
      "<h1>Automated access to our sites must comply with SEC.gov's Privacy and Security Policy.</h1>\n",
      "\n",
      "<p>Please visit <a href=\"https://www.sec.gov/developer\" target=\"_blank\">www.sec.gov/developer</a> for more developer resources and Fair Access guidelines.</p>\n",
      "<p>Please visit <a href=\"https://www.sec.gov/privacy\" target=\"_blank\">www.sec.gov/privacy</a> for more information on Privacy Policy.</p>\n",
      "\n",
      "<p>Reference ID: 0.2fbc7768.1705878384.20d7daff</p>\n",
      "\n",
      "</body>\n",
      "</html>\n",
      "\n"
     ]
    },
    {
     "name": "stderr",
     "output_type": "stream",
     "text": [
      "[0121/150625.011754:WARNING:angle_platform_impl.cc(49)] RendererVk.cpp:1962 (initialize): ANGLE VMA version: 2003000\n",
      "[0121/150625.038749:ERROR:command_buffer_proxy_impl.cc(127)] ContextResult::kTransientFailure: Failed to send GpuControl.CreateCommandBuffer.\n",
      "72632 bytes written to file /Users/thomasheill/test_repos/llm udemy/output_image.jpg\n"
     ]
    },
    {
     "data": {
      "text/plain": [
       "[{'score': 0.9021190404891968,\n",
       "  'answer': 'www.sec.gov/privacy',\n",
       "  'start': 1,\n",
       "  'end': 1}]"
      ]
     },
     "execution_count": 1,
     "metadata": {},
     "output_type": "execute_result"
    }
   ],
   "source": [
    "from transformers import pipeline\n",
    "import imgkit\n",
    "nlp = pipeline(\n",
    "    \"document-question-answering\",\n",
    "    model=\"impira/layoutlm-document-qa\",\n",
    ")\n",
    "import requests\n",
    "from bs4 import BeautifulSoup\n",
    "from html2image import Html2Image\n",
    "hti = Html2Image()\n",
    "# URL of the HTML file\n",
    "url = \"https://www.sec.gov/ix?doc=/Archives/edgar/data/1543151/000155278123000469/e23472_uber-8k.htm\"\n",
    "\n",
    "# Send a GET request to the URL\n",
    "response = requests.get(url)\n",
    "html_content = response.text\n",
    "# print(html_content)\n",
    "\n",
    "    # Convert HTML to Image\n",
    "hti.screenshot(url=url, save_as='output_image.jpg')\n",
    "nlp('output_image.jpg','Summarize this file.')"
   ]
  }
 ],
 "metadata": {
  "kernelspec": {
   "display_name": ".venv",
   "language": "python",
   "name": "python3"
  },
  "language_info": {
   "codemirror_mode": {
    "name": "ipython",
    "version": 3
   },
   "file_extension": ".py",
   "mimetype": "text/x-python",
   "name": "python",
   "nbconvert_exporter": "python",
   "pygments_lexer": "ipython3",
   "version": "3.10.9"
  }
 },
 "nbformat": 4,
 "nbformat_minor": 2
}
