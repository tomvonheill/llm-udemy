{
 "cells": [
  {
   "cell_type": "code",
   "execution_count": 2,
   "metadata": {},
   "outputs": [
    {
     "name": "stderr",
     "output_type": "stream",
     "text": [
      "/Users/thomasheill/test_repos/llm udemy/.venv/lib/python3.10/site-packages/tqdm/auto.py:21: TqdmWarning: IProgress not found. Please update jupyter and ipywidgets. See https://ipywidgets.readthedocs.io/en/stable/user_install.html\n",
      "  from .autonotebook import tqdm as notebook_tqdm\n"
     ]
    }
   ],
   "source": [
    "from transformers import pipeline, set_seed, GPT2Tokenizer, GPT2LMHeadModel\n",
    "from torch import tensor, numel\n",
    "from bertviz import model_view\n",
    "import torch\n",
    "import pandas as pd\n",
    "set_seed(42)\n",
    "tokenizer = GPT2Tokenizer.from_pretrained('gpt2')\n",
    "model = GPT2LMHeadModel.from_pretrained('gpt2')\n",
    "generator = pipeline('text-generation', model='gpt2', tokenizer=tokenizer)"
   ]
  },
  {
   "cell_type": "code",
   "execution_count": 3,
   "metadata": {},
   "outputs": [
    {
     "name": "stderr",
     "output_type": "stream",
     "text": [
      "Setting `pad_token_id` to `eos_token_id`:50256 for open-end generation.\n"
     ]
    },
    {
     "name": "stdout",
     "output_type": "stream",
     "text": [
      "\n",
      "    C: Google was founded in 1998 by Larry Page and Sergey Bring while they were Ph.D. students at Stanford University in California.\n",
      "    Q: When was Google founded?\n",
      "    A: 1998\n",
      "    ###\n",
      "    C: Hugging face is a company which develops social AI-run chat bot applications. It was established in 2016 by Clement Delangue and Julien Chaumond.\n",
      "    Q: What does Hugging Face develop?\n",
      "    A: social AI-run chatbot applications\n",
      "    ###\n",
      "    C: The New York Jets are a professional American football team based in the New York metropolitan area. The Jets compete in the National Football League as a member club of the league's American Football Conference East division.\n",
      "    Q: What sport does the New York Jets play?\n",
      "    A: Football\n",
      "    ###\n",
      "   C: The New York Jets are a professional American football team based in the\n"
     ]
    }
   ],
   "source": [
    "print(generator(\n",
    "    \"\"\"\n",
    "    C: Google was founded in 1998 by Larry Page and Sergey Bring while they were Ph.D. students at Stanford University in California.\n",
    "    Q: When was Google founded?\n",
    "    A: 1998\n",
    "    ###\n",
    "    C: Hugging face is a company which develops social AI-run chat bot applications. It was established in 2016 by Clement Delangue and Julien Chaumond.\n",
    "    Q: What does Hugging Face develop?\n",
    "    A: social AI-run chatbot applications\n",
    "    ###\n",
    "    C: The New York Jets are a professional American football team based in the New York metropolitan area. The Jets compete in the National Football League as a member club of the league's American Football Conference East division.\n",
    "    Q: What sport does the New York Jets play?\n",
    "    A:\"\"\", top_k=2, max_length=215, temperature=0.5\n",
    ")[0]['generated_text'])"
   ]
  },
  {
   "cell_type": "code",
   "execution_count": 6,
   "metadata": {},
   "outputs": [
    {
     "name": "stderr",
     "output_type": "stream",
     "text": [
      "Setting `pad_token_id` to `eos_token_id`:50256 for open-end generation.\n"
     ]
    },
    {
     "name": "stdout",
     "output_type": "stream",
     "text": [
      "Summarization Task:\n",
      "Meghan Elizabeth Trainor (born December 22, 1993) is an American singer-songwriter and television personality. She rose to prominence after signing with Epic Records in 2014 and releasing her debut single \"All About That Bass\", which reached number one on the U.S. Billboard Hot 100 chart and sold 11 million copies worldwide. Trainor has released five studio albums with the label and has received various accolades, including the 2016 Grammy Award for Best New Artist.\n",
      "\n",
      "Trainor became interested in music at a young age; she wrote, recorded, and produced three independently released acoustic albums, Meghan Trainor (2009), I'll Sing with You, and Only 17 (2010). She began writing and producing songs for other artists in 2013. In 2015, Trainor released her pop and hip hop major-label debut studio album, Title, which included the top-10 singles \"Lips Are Movin\" and \"Like I'm Gonna Lose You\"; it debuted at number one on the U.S. Billboard 200. The single \"No\" led her follow-up album, the Thank You (2016), both of which reached number three on the respective charts. In 2020, Trainor released the electronic dance music-influenced album Treat Myself and the holiday album A Very Trainor Christmas. Her fifth studio album, Takin' It Back, was released on October 21, 2022, with its single \"Made You Look\" reaching the top five in countries including the UK, Ireland, Australia, and New Zealand.\n",
      "\n",
      "Trainor's lyrics frequently include themes of womanhood, body image, and personal empowerment, though at times they have been criticized for being antifeminist. Her music is influenced by the popular music of the 1950s, and blends the genres pop, doo-wop and blue-eyed soul. Outside of the music industry, Trainor has had voice roles in the animated films Smurfs: The Lost Village (2017) and Playmobil: The Movie (2019). She served as a judge on the television talent shows The Four: Battle for Stardom (2018), The Voice UK (2020) and Australian Idol (2023). Trainor's accolades include a Grammy Award, four ASCAP Pop Music Awards, and two Billboard Music Awards.\n",
      "TL;DR: Trainor is a popular singer-actor, and she is a great singer-actress.\n",
      ".\n"
     ]
    }
   ],
   "source": [
    "to_summarize = \"\"\"Meghan Elizabeth Trainor (born December 22, 1993) is an American singer-songwriter and television personality. She rose to prominence after signing with Epic Records in 2014 and releasing her debut single \"All About That Bass\", which reached number one on the U.S. Billboard Hot 100 chart and sold 11 million copies worldwide. Trainor has released five studio albums with the label and has received various accolades, including the 2016 Grammy Award for Best New Artist.\n",
    "\n",
    "Trainor became interested in music at a young age; she wrote, recorded, and produced three independently released acoustic albums, Meghan Trainor (2009), I'll Sing with You, and Only 17 (2010). She began writing and producing songs for other artists in 2013. In 2015, Trainor released her pop and hip hop major-label debut studio album, Title, which included the top-10 singles \"Lips Are Movin\" and \"Like I'm Gonna Lose You\"; it debuted at number one on the U.S. Billboard 200. The single \"No\" led her follow-up album, the Thank You (2016), both of which reached number three on the respective charts. In 2020, Trainor released the electronic dance music-influenced album Treat Myself and the holiday album A Very Trainor Christmas. Her fifth studio album, Takin' It Back, was released on October 21, 2022, with its single \"Made You Look\" reaching the top five in countries including the UK, Ireland, Australia, and New Zealand.\n",
    "\n",
    "Trainor's lyrics frequently include themes of womanhood, body image, and personal empowerment, though at times they have been criticized for being antifeminist. Her music is influenced by the popular music of the 1950s, and blends the genres pop, doo-wop and blue-eyed soul. Outside of the music industry, Trainor has had voice roles in the animated films Smurfs: The Lost Village (2017) and Playmobil: The Movie (2019). She served as a judge on the television talent shows The Four: Battle for Stardom (2018), The Voice UK (2020) and Australian Idol (2023). Trainor's accolades include a Grammy Award, four ASCAP Pop Music Awards, and two Billboard Music Awards.\"\"\"\n",
    "\n",
    "print(generator(f\"\"\"Summarization Task:\\n{to_summarize}\\nTL;DR\"\"\", max_length=512, top_k=3, temperature=0.5, no_repeat_ngram_size=3)[0]['generated_text'])\n",
    "\n",
    "#no repeat ngram size says don't use the same 3 tokens in a row EVER"
   ]
  }
 ],
 "metadata": {
  "kernelspec": {
   "display_name": ".venv",
   "language": "python",
   "name": "python3"
  },
  "language_info": {
   "codemirror_mode": {
    "name": "ipython",
    "version": 3
   },
   "file_extension": ".py",
   "mimetype": "text/x-python",
   "name": "python",
   "nbconvert_exporter": "python",
   "pygments_lexer": "ipython3",
   "version": "3.10.13"
  }
 },
 "nbformat": 4,
 "nbformat_minor": 2
}
