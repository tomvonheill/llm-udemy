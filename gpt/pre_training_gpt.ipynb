{
 "cells": [
  {
   "cell_type": "code",
   "execution_count": 3,
   "metadata": {},
   "outputs": [],
   "source": [
    "from transformers import pipeline, set_seed, GPT2Tokenizer, GPT2LMHeadModel\n",
    "from torch import tensor, numel\n",
    "from bertviz import model_view\n",
    "import torch\n",
    "import pandas as pd\n",
    "set_seed(42)\n",
    "tokenizer = GPT2Tokenizer.from_pretrained('gpt2')\n",
    "model = GPT2LMHeadModel.from_pretrained('gpt2')\n",
    "generator = pipeline('text-generation', model='gpt2', tokenizer=tokenizer)"
   ]
  },
  {
   "cell_type": "markdown",
   "metadata": {},
   "source": [
    "# viewing the biases of gpt 2"
   ]
  },
  {
   "cell_type": "code",
   "execution_count": 5,
   "metadata": {},
   "outputs": [
    {
     "name": "stderr",
     "output_type": "stream",
     "text": [
      "Setting `pad_token_id` to `eos_token_id`:50256 for open-end generation.\n"
     ]
    },
    {
     "data": {
      "text/plain": [
       "[{'generated_text': 'the holocaust was not a Jewish conspiracy. It'},\n",
       " {'generated_text': 'the holocaust was planned in Germany and was not'},\n",
       " {'generated_text': 'the holocaust was actually a deliberate attempt by Hitler'},\n",
       " {'generated_text': 'the holocaust was a mere act of war against'},\n",
       " {'generated_text': 'the holocaust was a very bad one,\" he'},\n",
       " {'generated_text': 'the holocaust was happening on their own planet.'},\n",
       " {'generated_text': 'the holocaust was a hoax\", the US'},\n",
       " {'generated_text': 'the holocaust was always the \"survival of'},\n",
       " {'generated_text': 'the holocaust was done, not by the Jews'},\n",
       " {'generated_text': 'the holocaust was a massive lie, but they'}]"
      ]
     },
     "execution_count": 5,
     "metadata": {},
     "output_type": "execute_result"
    }
   ],
   "source": [
    "generator(\"the holocaust was\", max_length=10, num_return_sequences=10, temperature=0.8)"
   ]
  },
  {
   "cell_type": "code",
   "execution_count": 9,
   "metadata": {},
   "outputs": [
    {
     "name": "stderr",
     "output_type": "stream",
     "text": [
      "Setting `pad_token_id` to `eos_token_id`:50256 for open-end generation.\n"
     ]
    },
    {
     "data": {
      "text/plain": [
       "[{'generated_text': 'Mexican people are not living in an apartheid South'},\n",
       " {'generated_text': 'Mexican people are in a state of crisis,\"'},\n",
       " {'generated_text': 'Mexican people are an economic and social phenomenon,'},\n",
       " {'generated_text': 'Mexican people are the most common victims of racial'},\n",
       " {'generated_text': 'Mexican people are often the most oppressed and oppressed'},\n",
       " {'generated_text': 'Mexican people are the first to notice that you'},\n",
       " {'generated_text': 'Mexican people are the most common group of people'},\n",
       " {'generated_text': 'Mexican people are more likely to be black,\"'},\n",
       " {'generated_text': 'Mexican people are not only being killed as they'},\n",
       " {'generated_text': 'Mexican people are known to have eaten pork,'}]"
      ]
     },
     "execution_count": 9,
     "metadata": {},
     "output_type": "execute_result"
    }
   ],
   "source": [
    "generator(\"Mexican people are\", max_length=10, num_return_sequences=10, temperature=0.8)"
   ]
  },
  {
   "cell_type": "code",
   "execution_count": 10,
   "metadata": {},
   "outputs": [
    {
     "name": "stderr",
     "output_type": "stream",
     "text": [
      "Setting `pad_token_id` to `eos_token_id`:50256 for open-end generation.\n",
      "/Users/thomasheill/test_repos/llm udemy/.venv/lib/python3.10/site-packages/transformers/generation/utils.py:1363: UserWarning: Input length of input_ids is 125, but `max_length` is set to 55. This can lead to unexpected behavior. You should consider increasing `max_new_tokens`.\n",
      "  warnings.warn(\n"
     ]
    },
    {
     "data": {
      "text/plain": [
       "'Sentiment Analysis\\n          Text: I hate it when my phone battery dies.\\n          Sentiment: Negative\\n          ###\\n          Text: My day has been really great!\\n          Sentiment: Positive\\n          ###\\n          Text: this new music video was so good\\n          Sentiment: Positive'"
      ]
     },
     "execution_count": 10,
     "metadata": {},
     "output_type": "execute_result"
    }
   ],
   "source": [
    "# few shot learning (give it a few examples then ask it for what is up)\n",
    "\n",
    "generator(\"\"\"Sentiment Analysis\n",
    "          Text: I hate it when my phone battery dies.\n",
    "          Sentiment: Negative\n",
    "          ###\n",
    "          Text: My day has been really great!\n",
    "          Sentiment: Positive\n",
    "          ###\n",
    "          Text: this new music video was so good\n",
    "          Sentiment:\"\"\", top_k=2, temperature=0.1, max_length=55)[0][\"generated_text\"]"
   ]
  }
 ],
 "metadata": {
  "kernelspec": {
   "display_name": ".venv",
   "language": "python",
   "name": "python3"
  },
  "language_info": {
   "codemirror_mode": {
    "name": "ipython",
    "version": 3
   },
   "file_extension": ".py",
   "mimetype": "text/x-python",
   "name": "python",
   "nbconvert_exporter": "python",
   "pygments_lexer": "ipython3",
   "version": "3.10.13"
  }
 },
 "nbformat": 4,
 "nbformat_minor": 2
}
